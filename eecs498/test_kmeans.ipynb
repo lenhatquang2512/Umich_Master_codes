{
 "cells": [
  {
   "cell_type": "code",
   "execution_count": 5,
   "metadata": {},
   "outputs": [],
   "source": [
    "from sklearn.cluster import KMeans\n",
    "import numpy as np\n",
    "import matplotlib.pyplot as plt"
   ]
  },
  {
   "cell_type": "code",
   "execution_count": 4,
   "metadata": {},
   "outputs": [
    {
     "name": "stdout",
     "output_type": "stream",
     "text": [
      "[[ 1  2]\n",
      " [ 1  4]\n",
      " [ 1  0]\n",
      " [10  2]\n",
      " [10  4]\n",
      " [10  0]]\n"
     ]
    }
   ],
   "source": [
    "X = np.array([[1, 2], [1, 4], [1, 0],\n",
    "              [10, 2], [10, 4], [10, 0]])\n",
    "\n",
    "print(X)"
   ]
  },
  {
   "cell_type": "code",
   "execution_count": 12,
   "metadata": {},
   "outputs": [
    {
     "data": {
      "image/png": "[encoded data removed]",
      "text/plain": [
       "<Figure size 432x288 with 1 Axes>"
      ]
     },
     "metadata": {
      "needs_background": "light"
     },
     "output_type": "display_data"
    }
   ],
   "source": [
    "plt.plot(X[:,0],X[:,1],'X')\n",
    "plt.show()"
   ]
  },
  {
   "cell_type": "code",
   "execution_count": 8,
   "metadata": {},
   "outputs": [],
   "source": [
    "kmeans = KMeans(n_clusters=2, random_state=0).fit(X)\n"
   ]
  },
  {
   "cell_type": "code",
   "execution_count": 9,
   "metadata": {},
   "outputs": [
    {
     "data": {
      "text/plain": [
       "array([1, 1, 1, 0, 0, 0], dtype=int32)"
      ]
     },
     "execution_count": 9,
     "metadata": {},
     "output_type": "execute_result"
    }
   ],
   "source": [
    "kmeans.labels_"
   ]
  },
  {
   "cell_type": "code",
   "execution_count": 13,
   "metadata": {},
   "outputs": [
    {
     "data": {
      "image/png": "[encoded data removed]",
      "text/plain": [
       "<Figure size 432x288 with 1 Axes>"
      ]
     },
     "metadata": {
      "needs_background": "light"
     },
     "output_type": "display_data"
    }
   ],
   "source": [
    "plt.scatter(X[:,0],X[:,1],c=kmeans.labels_)\n",
    "plt.show()"
   ]
  },
  {
   "cell_type": "code",
   "execution_count": 30,
   "metadata": {},
   "outputs": [
    {
     "name": "stdout",
     "output_type": "stream",
     "text": [
      "[1 0]\n",
      "0\n"
     ]
    }
   ],
   "source": [
    "u = kmeans.predict([[0, 0], [12, 3]])\n",
    "print(u)\n",
    "print(u[1])"
   ]
  },
  {
   "cell_type": "code",
   "execution_count": 36,
   "metadata": {},
   "outputs": [
    {
     "name": "stdout",
     "output_type": "stream",
     "text": [
      "[[ 0  0]\n",
      " [12  3]]\n"
     ]
    },
    {
     "data": {
      "text/plain": [
       "<matplotlib.collections.PathCollection at 0x7f130bdc07f0>"
      ]
     },
     "execution_count": 36,
     "metadata": {},
     "output_type": "execute_result"
    },
    {
     "data": {
      "image/png": "[encoded data removed]",
      "text/plain": [
       "<Figure size 432x288 with 1 Axes>"
      ]
     },
     "metadata": {
      "needs_background": "light"
     },
     "output_type": "display_data"
    }
   ],
   "source": [
    "plt.scatter(X[:,0],X[:,1],c=kmeans.labels_)\n",
    "predict_value = np.array([[0,0],[12,3]])\n",
    "print(predict_value)\n",
    "plt.scatter(predict_value[:,0],predict_value[:,1],c=u)\n",
    "cen = kmeans.cluster_centers_\n",
    "\n",
    "plt.scatter(cen[:,0],cen[:,1])"
   ]
  },
  {
   "cell_type": "code",
   "execution_count": 37,
   "metadata": {},
   "outputs": [
    {
     "name": "stdout",
     "output_type": "stream",
     "text": [
      "16.0\n"
     ]
    }
   ],
   "source": [
    "print(kmeans.inertia_)"
   ]
  },
  {
   "cell_type": "code",
   "execution_count": 38,
   "metadata": {},
   "outputs": [
    {
     "name": "stdout",
     "output_type": "stream",
     "text": [
      "[1 1 1 0 0 0]\n"
     ]
    }
   ],
   "source": [
    "print(kmeans.labels_)"
   ]
  },
  {
   "cell_type": "code",
   "execution_count": 46,
   "metadata": {},
   "outputs": [
    {
     "name": "stdout",
     "output_type": "stream",
     "text": [
      "---\n",
      "[10 10 10] [2 4 0]\n",
      "---\n",
      "---\n",
      "[1 1 1] [2 4 0]\n",
      "---\n",
      "---\n",
      "[] []\n",
      "---\n",
      "---\n",
      "[] []\n",
      "---\n",
      "---\n",
      "[] []\n",
      "---\n",
      "---\n",
      "[] []\n",
      "---\n",
      "---\n",
      "[] []\n",
      "---\n",
      "---\n",
      "[] []\n",
      "---\n"
     ]
    }
   ],
   "source": [
    "for cluster in np.arange(8):\n",
    "    # print(cluster)\n",
    "    print('---')\n",
    "    print(X[kmeans.labels_==cluster, 0],X[kmeans.labels_==cluster, 1])\n",
    "    print('---')\n",
    "    # plt.plot(X[kmeans.labels_==cluster, 0], X[kmeans.labels_==cluster, 1], 'x')"
   ]
  },
  {
   "cell_type": "code",
   "execution_count": 44,
   "metadata": {},
   "outputs": [
    {
     "name": "stdout",
     "output_type": "stream",
     "text": [
      "[[ 1  2]\n",
      " [ 1  4]\n",
      " [ 1  0]\n",
      " [10  2]\n",
      " [10  4]\n",
      " [10  0]]\n"
     ]
    }
   ],
   "source": [
    "print(X)"
   ]
  },
  {
   "cell_type": "code",
   "execution_count": 47,
   "metadata": {},
   "outputs": [
    {
     "name": "stdout",
     "output_type": "stream",
     "text": [
      "# digits: 10; # samples: 1797; # features 64\n"
     ]
    }
   ],
   "source": [
    "import numpy as np\n",
    "from sklearn.datasets import load_digits\n",
    "\n",
    "data, labels = load_digits(return_X_y=True)\n",
    "(n_samples, n_features), n_digits = data.shape, np.unique(labels).size\n",
    "\n",
    "print(f\"# digits: {n_digits}; # samples: {n_samples}; # features {n_features}\")"
   ]
  },
  {
   "cell_type": "code",
   "execution_count": 48,
   "metadata": {},
   "outputs": [],
   "source": [
    "from time import time\n",
    "from sklearn import metrics\n",
    "from sklearn.pipeline import make_pipeline\n",
    "from sklearn.preprocessing import StandardScaler\n",
    "\n",
    "\n",
    "def bench_k_means(kmeans, name, data, labels):\n",
    "    \"\"\"Benchmark to evaluate the KMeans initialization methods.\n",
    "\n",
    "    Parameters\n",
    "    ----------\n",
    "    kmeans : KMeans instance\n",
    "        A :class:`~sklearn.cluster.KMeans` instance with the initialization\n",
    "        already set.\n",
    "    name : str\n",
    "        Name given to the strategy. It will be used to show the results in a\n",
    "        table.\n",
    "    data : ndarray of shape (n_samples, n_features)\n",
    "        The data to cluster.\n",
    "    labels : ndarray of shape (n_samples,)\n",
    "        The labels used to compute the clustering metrics which requires some\n",
    "        supervision.\n",
    "    \"\"\"\n",
    "    t0 = time()\n",
    "    estimator = make_pipeline(StandardScaler(), kmeans).fit(data)\n",
    "    fit_time = time() - t0\n",
    "    results = [name, fit_time, estimator[-1].inertia_]\n",
    "\n",
    "    # Define the metrics which require only the true labels and estimator\n",
    "    # labels\n",
    "    clustering_metrics = [\n",
    "        metrics.homogeneity_score,\n",
    "        metrics.completeness_score,\n",
    "        metrics.v_measure_score,\n",
    "        metrics.adjusted_rand_score,\n",
    "        metrics.adjusted_mutual_info_score,\n",
    "    ]\n",
    "    results += [m(labels, estimator[-1].labels_) for m in clustering_metrics]\n",
    "\n",
    "    # The silhouette score requires the full dataset\n",
    "    results += [\n",
    "        metrics.silhouette_score(\n",
    "            data,\n",
    "            estimator[-1].labels_,\n",
    "            metric=\"euclidean\",\n",
    "            sample_size=300,\n",
    "        )\n",
    "    ]\n",
    "\n",
    "    # Show the results\n",
    "    formatter_result = (\n",
    "        \"{:9s}\\t{:.3f}s\\t{:.0f}\\t{:.3f}\\t{:.3f}\\t{:.3f}\\t{:.3f}\\t{:.3f}\\t{:.3f}\"\n",
    "    )\n",
    "    print(formatter_result.format(*results))"
   ]
  },
  {
   "cell_type": "code",
   "execution_count": 51,
   "metadata": {},
   "outputs": [
    {
     "data": {
      "image/png": "[encoded data removed]",
      "text/plain": [
       "<Figure size 432x288 with 1 Axes>"
      ]
     },
     "metadata": {},
     "output_type": "display_data"
    }
   ],
   "source": [
    "import matplotlib.pyplot as plt\n",
    "\n",
    "from sklearn.decomposition import PCA\n",
    "\n",
    "\n",
    "reduced_data = PCA(n_components=2).fit_transform(data)\n",
    "kmeans = KMeans(init=\"k-means++\", n_clusters=n_digits, n_init=4)\n",
    "kmeans.fit(reduced_data)\n",
    "\n",
    "# Step size of the mesh. Decrease to increase the quality of the VQ.\n",
    "h = 0.02  # point in the mesh [x_min, x_max]x[y_min, y_max].\n",
    "\n",
    "# Plot the decision boundary. For that, we will assign a color to each\n",
    "x_min, x_max = reduced_data[:, 0].min() - 1, reduced_data[:, 0].max() + 1\n",
    "y_min, y_max = reduced_data[:, 1].min() - 1, reduced_data[:, 1].max() + 1\n",
    "xx, yy = np.meshgrid(np.arange(x_min, x_max, h), np.arange(y_min, y_max, h))\n",
    "\n",
    "# Obtain labels for each point in mesh. Use last trained model.\n",
    "Z = kmeans.predict(np.c_[xx.ravel(), yy.ravel()])\n",
    "\n",
    "# Put the result into a color plot\n",
    "Z = Z.reshape(xx.shape)\n",
    "plt.figure(1)\n",
    "plt.clf()\n",
    "plt.imshow(\n",
    "    Z,\n",
    "    interpolation=\"nearest\",\n",
    "    extent=(xx.min(), xx.max(), yy.min(), yy.max()),\n",
    "    cmap=plt.cm.Paired,\n",
    "    aspect=\"auto\",\n",
    "    origin=\"lower\",\n",
    ")\n",
    "\n",
    "plt.plot(reduced_data[:, 0], reduced_data[:, 1], \"k.\", markersize=2)\n",
    "# Plot the centroids as a white X\n",
    "centroids = kmeans.cluster_centers_\n",
    "plt.scatter(\n",
    "    centroids[:, 0],\n",
    "    centroids[:, 1],\n",
    "    marker=\"x\",\n",
    "    s=169,\n",
    "    linewidths=3,\n",
    "    color=\"w\",\n",
    "    zorder=10,\n",
    ")\n",
    "plt.title(\n",
    "    \"K-means clustering on the digits dataset (PCA-reduced data)\\n\"\n",
    "    \"Centroids are marked with white cross\"\n",
    ")\n",
    "plt.xlim(x_min, x_max)\n",
    "plt.ylim(y_min, y_max)\n",
    "plt.xticks(())\n",
    "plt.yticks(())\n",
    "plt.show()"
   ]
  },
  {
   "cell_type": "code",
   "execution_count": 55,
   "metadata": {},
   "outputs": [
    {
     "name": "stdout",
     "output_type": "stream",
     "text": [
      "[[ 0.  0.  5. ...  0.  0.  0.]\n",
      " [ 0.  0.  0. ... 10.  0.  0.]\n",
      " [ 0.  0.  0. ... 16.  9.  0.]\n",
      " ...\n",
      " [ 0.  0.  1. ...  6.  0.  0.]\n",
      " [ 0.  0.  2. ... 12.  0.  0.]\n",
      " [ 0.  0. 10. ... 12.  1.  0.]]\n",
      "(1797, 64)\n",
      "(1797,)\n"
     ]
    }
   ],
   "source": [
    "print(data)\n",
    "print(data.shape)\n",
    "print(labels.shape)"
   ]
  },
  {
   "cell_type": "code",
   "execution_count": 57,
   "metadata": {},
   "outputs": [
    {
     "data": {
      "image/png": "[encoded data removed]",
      "text/plain": [
       "<Figure size 432x288 with 1 Axes>"
      ]
     },
     "metadata": {
      "needs_background": "light"
     },
     "output_type": "display_data"
    }
   ],
   "source": [
    "reduced_data = PCA(n_components=2).fit_transform(data)\n",
    "kmeans = KMeans(init=\"k-means++\", n_clusters=n_digits, n_init=4)\n",
    "kmeans.fit(reduced_data)\n",
    "\n",
    "plt.figure()\n",
    "for cluster in np.arange(n_digits):\n",
    "    plt.plot(reduced_data[kmeans.labels_==cluster, 0], reduced_data[kmeans.labels_==cluster, 1], 'x')\n",
    "    plt.legend([])\n",
    "\n",
    "\n",
    "plt.show()\n",
    "\n"
   ]
  },
  {
   "cell_type": "code",
   "execution_count": 19,
   "metadata": {},
   "outputs": [],
   "source": [
    "from scipy.stats import norm, multivariate_normal\n",
    "from scipy.special import logsumexp"
   ]
  },
  {
   "cell_type": "code",
   "execution_count": 20,
   "metadata": {},
   "outputs": [],
   "source": [
    "x = np.linspace(1, 10, 500)\n",
    "y = np.linspace(5, 50, 500)\n",
    "X, Y = np.meshgrid(x, y)"
   ]
  },
  {
   "cell_type": "code",
   "execution_count": 21,
   "metadata": {},
   "outputs": [
    {
     "name": "stdout",
     "output_type": "stream",
     "text": [
      "(500,)\n",
      "(500, 500)\n"
     ]
    }
   ],
   "source": [
    "print(x.shape)\n",
    "print(Y.shape)"
   ]
  },
  {
   "cell_type": "code",
   "execution_count": 22,
   "metadata": {},
   "outputs": [
    {
     "data": {
      "text/plain": [
       "array([[ 1.        ,  5.        ],\n",
       "       [ 1.01803607,  5.        ],\n",
       "       [ 1.03607214,  5.        ],\n",
       "       ...,\n",
       "       [ 9.96392786, 50.        ],\n",
       "       [ 9.98196393, 50.        ],\n",
       "       [10.        , 50.        ]])"
      ]
     },
     "execution_count": 22,
     "metadata": {},
     "output_type": "execute_result"
    }
   ],
   "source": [
    "pos = np.array([X.flatten(), Y.flatten()]).T\n",
    "pos"
   ]
  },
  {
   "cell_type": "code",
   "execution_count": 23,
   "metadata": {},
   "outputs": [
    {
     "data": {
      "text/plain": [
       "array([[-0.56699925,  0.18701133],\n",
       "       [ 0.78074855,  1.88662142],\n",
       "       [-0.20907821,  2.37807185]])"
      ]
     },
     "execution_count": 23,
     "metadata": {},
     "output_type": "execute_result"
    }
   ],
   "source": [
    "mu = np.random.randn(3, 2)\n",
    "mu"
   ]
  },
  {
   "cell_type": "code",
   "execution_count": 24,
   "metadata": {},
   "outputs": [],
   "source": [
    "rv = multivariate_normal([-0.73831014, -0.48510724], 5)"
   ]
  },
  {
   "cell_type": "code",
   "execution_count": 25,
   "metadata": {},
   "outputs": [],
   "source": [
    "pdf = rv.pdf(pos).reshape(500, 500)"
   ]
  },
  {
   "cell_type": "code",
   "execution_count": 26,
   "metadata": {},
   "outputs": [],
   "source": [
    "pdfs = np.array(pdf)"
   ]
  },
  {
   "cell_type": "code",
   "execution_count": 27,
   "metadata": {},
   "outputs": [
    {
     "data": {
      "text/plain": [
       "<matplotlib.contour.QuadContourSet at 0x7f71804844f0>"
      ]
     },
     "execution_count": 27,
     "metadata": {},
     "output_type": "execute_result"
    },
    {
     "data": {
      "image/png": "[encoded data removed]",
      "text/plain": [
       "<Figure size 640x480 with 1 Axes>"
      ]
     },
     "metadata": {},
     "output_type": "display_data"
    }
   ],
   "source": [
    "plt.contourf(X, Y,pdfs, alpha=0.8)"
   ]
  },
  {
   "cell_type": "code",
   "execution_count": 55,
   "metadata": {},
   "outputs": [
    {
     "name": "stdout",
     "output_type": "stream",
     "text": [
      "[[1 2 3]\n",
      " [4 5 6]]\n",
      "3\n",
      "[3 6]\n"
     ]
    }
   ],
   "source": [
    "import numpy as np\n",
    "\n",
    "A = np.array([[1,2,3],[4,5,6]])\n",
    "print(A)\n",
    "\n",
    "print(A.shape[1])\n",
    "print(A[:,2])"
   ]
  },
  {
   "cell_type": "code",
   "execution_count": 12,
   "metadata": {},
   "outputs": [
    {
     "name": "stdout",
     "output_type": "stream",
     "text": [
      "[[1. 0. 0.]\n",
      " [0. 1. 0.]\n",
      " [0. 0. 1.]]\n",
      "[[1. 0. 0.]\n",
      " [0. 1. 0.]\n",
      " [0. 0. 1.]]\n",
      "[]\n",
      "(1, 2)\n"
     ]
    }
   ],
   "source": [
    "print(np.eye(3))\n",
    "print(np.identity(3))\n",
    "print(np.zeros((1,0)))\n",
    "C = np.array([[1,0]]) \n",
    "print(C.shape)"
   ]
  },
  {
   "cell_type": "code",
   "execution_count": 56,
   "metadata": {},
   "outputs": [
    {
     "name": "stdout",
     "output_type": "stream",
     "text": [
      "0\n",
      "1\n",
      "2\n",
      "3\n",
      "4\n",
      "5\n",
      "6\n"
     ]
    }
   ],
   "source": [
    "for i in range(0,7):\n",
    "    print(i)"
   ]
  },
  {
   "cell_type": "code",
   "execution_count": 7,
   "metadata": {},
   "outputs": [
    {
     "data": {
      "text/plain": [
       "array([0.64326146, 0.06564589, 0.00722709, 0.30073481])"
      ]
     },
     "execution_count": 7,
     "metadata": {},
     "output_type": "execute_result"
    }
   ],
   "source": [
    "np.random.seed(445) ; np.random.rand(4)"
   ]
  },
  {
   "cell_type": "code",
   "execution_count": 10,
   "metadata": {},
   "outputs": [
    {
     "data": {
      "text/plain": [
       "array([0.64326146, 0.06564589, 0.00722709, 0.30073481])"
      ]
     },
     "execution_count": 10,
     "metadata": {},
     "output_type": "execute_result"
    }
   ],
   "source": [
    "np.random.seed(445) ; np.random.rand(4)"
   ]
  },
  {
   "cell_type": "code",
   "execution_count": 41,
   "metadata": {},
   "outputs": [],
   "source": [
    "from sklearn.datasets import fetch_openml\n",
    "def get_data():\n",
    "    \"\"\"Load penguins data from Github.\"\"\"\n",
    "    penguins = fetch_openml(\"penguins\", as_frame=False)\n",
    "    # get 'culmen_length_mm', 'culmen_depth_mm', 'flipper_length_mm',\n",
    "    # 'body_mass_g' features\n",
    "    X = penguins[\"data\"][:, 1:5]\n",
    "    # drop NA values\n",
    "    X = X[~np.isnan(X).any(axis=1)]\n",
    "    X = (X - np.mean(X, axis=0)) / np.std(X, axis=0)\n",
    "    print(f\"Shape of the input data: {X.shape[0]} by {X.shape[1]}\")\n",
    "    return X"
   ]
  },
  {
   "cell_type": "code",
   "execution_count": 42,
   "metadata": {},
   "outputs": [
    {
     "name": "stdout",
     "output_type": "stream",
     "text": [
      "Shape of the input data: 342 by 4\n"
     ]
    }
   ],
   "source": [
    "np.random.seed(445)\n",
    "X = get_data()"
   ]
  },
  {
   "cell_type": "code",
   "execution_count": 43,
   "metadata": {},
   "outputs": [
    {
     "name": "stdout",
     "output_type": "stream",
     "text": [
      "[[-0.88449874  0.78544923 -1.41834665 -0.56414208]\n",
      " [-0.81112573  0.1261879  -1.06225022 -0.50170305]\n",
      " [-0.66437972  0.43046236 -0.42127665 -1.18853234]\n",
      " ...\n",
      " [ 1.18828874 -0.73592307  1.50164406  1.93341896]\n",
      " [ 0.23443963 -1.19233476  0.7894512   1.24658968]\n",
      " [ 1.09657248 -0.53307343  0.86067049  1.49634578]]\n"
     ]
    }
   ],
   "source": [
    "print(X)"
   ]
  },
  {
   "cell_type": "code",
   "execution_count": 44,
   "metadata": {},
   "outputs": [
    {
     "data": {
      "image/png": "[encoded data removed]",
      "text/plain": [
       "<Figure size 640x480 with 1 Axes>"
      ]
     },
     "metadata": {},
     "output_type": "display_data"
    }
   ],
   "source": [
    "xVals = X[:, 0]\n",
    "yVals = X[:, 1]\n",
    "plt.scatter(xVals, yVals, color=\"black\")\n",
    "plt.show()"
   ]
  },
  {
   "cell_type": "code",
   "execution_count": 49,
   "metadata": {},
   "outputs": [
    {
     "name": "stdout",
     "output_type": "stream",
     "text": [
      "k = 2 idx = 0\n",
      "k = 3 idx = 1\n",
      "k = 4 idx = 2\n",
      "k = 5 idx = 3\n",
      "k = 6 idx = 4\n",
      "k = 7 idx = 5\n",
      "k = 8 idx = 6\n"
     ]
    }
   ],
   "source": [
    "num_K = range(2, 9) \n",
    "# print(num_K)\n",
    "for idx in range(len(num_K)):\n",
    "    # Running\n",
    "    # print(idx)\n",
    "    k = num_K[idx]\n",
    "    print(\"k = \" +str(k) + \" idx = \" +str(idx))\n",
    "    # print(\"%d clusters...\" % k)"
   ]
  },
  {
   "cell_type": "code",
   "execution_count": 60,
   "metadata": {},
   "outputs": [
    {
     "name": "stdout",
     "output_type": "stream",
     "text": [
      "342\n",
      "4\n"
     ]
    }
   ],
   "source": [
    "N = X.shape[0]\n",
    "D = X.shape[1]\n",
    "print(N)\n",
    "print(D)"
   ]
  },
  {
   "cell_type": "code",
   "execution_count": 66,
   "metadata": {},
   "outputs": [
    {
     "name": "stdout",
     "output_type": "stream",
     "text": [
      "[[ 0.95486881 -1.13625616 -0.19583476 -0.10312424]\n",
      " [ 0.93496451  0.49065487  0.39988197 -0.96307667]\n",
      " [-0.41196464  0.80044569 -1.43506234  1.09740613]]\n",
      "(342, 3)\n"
     ]
    }
   ],
   "source": [
    "K = 3\n",
    "N = X.shape[0]\n",
    "D = X.shape[1]\n",
    "pk = np.ones((K, 1)) / K  # Uniformly initialize cluster proportions\n",
    "mu = np.random.randn(K, D)  # Random initialization of clusters\n",
    "zk = np.zeros([N, K])\n",
    "\n",
    "print(mu)\n",
    "print(zk.shape)"
   ]
  },
  {
   "cell_type": "code",
   "execution_count": 67,
   "metadata": {},
   "outputs": [],
   "source": [
    "def gmm(trainX, num_K, num_iter=10, plot=False):\n",
    "    \"\"\"Fit a gaussian mixture model on trainX data with num_K clusters.\n",
    "\n",
    "    trainX is a NxD matrix containing N datapoints, each with D features\n",
    "    num_K is the number of clusters or mixture components\n",
    "    num_iter is the maximum number of EM iterations run over the dataset\n",
    "\n",
    "    Description of other variables:\n",
    "        - mu, which is KxD, the coordinates of the means\n",
    "        - pk, which is Kx1 and represents the cluster proportions\n",
    "        - zk, which is NxK, has at each z(n,k) the probability that the nth\n",
    "          data point belongs to cluster k, specifying the cluster associated\n",
    "          with each data point\n",
    "        - si2 is the estimated (shared) variance of the data\n",
    "        - BIC is the Bayesian Information Criterion (smaller BIC is better)\n",
    "    \"\"\"\n",
    "    N = trainX.shape[0]\n",
    "    D = trainX.shape[1]\n",
    "\n",
    "    if num_K >= N:\n",
    "        print(\"You are trying too many clusters\")\n",
    "        raise ValueError\n",
    "    if plot and D != 2:\n",
    "        print(\"Can only visualize if D = 2\")\n",
    "        raise ValueError\n",
    "\n",
    "    si2 = 5  # Initialization of variance\n",
    "    pk = np.ones((num_K, 1)) / num_K  # Uniformly initialize cluster proportions\n",
    "    mu = np.random.randn(num_K, D)  # Random initialization of clusters\n",
    "    zk = np.zeros(\n",
    "        [N, num_K]\n",
    "    )  # Matrix containing cluster membership probability for each point\n",
    "\n",
    "    if plot:\n",
    "        plt.ion()\n",
    "        fig = plt.figure()\n",
    "    for iter in range(0, num_iter):\n",
    "        \"\"\"Iterate through one loop of the EM algorithm.\"\"\"\n",
    "        if plot:\n",
    "            plt.clf()\n",
    "            xVals = trainX[:, 0]\n",
    "            yVals = trainX[:, 1]\n",
    "            x = np.linspace(np.min(xVals), np.max(xVals), 500)\n",
    "            y = np.linspace(np.min(yVals), np.max(yVals), 500)\n",
    "            X, Y = np.meshgrid(x, y)\n",
    "            pos = np.array([X.flatten(), Y.flatten()]).T\n",
    "            plt.scatter(xVals, yVals, color=\"black\")\n",
    "            pdfs = []\n",
    "            for k in range(num_K):\n",
    "                rv = multivariate_normal(mu[k], si2)\n",
    "                pdfs.append(rv.pdf(pos).reshape(500, 500))\n",
    "            pdfs = np.array(pdfs)\n",
    "            plt.contourf(X, Y, np.max(pdfs, axis=0), alpha=0.8)\n",
    "            plt.pause(0.01)\n",
    "\n",
    "        \"\"\"\n",
    "        E-Step\n",
    "        In the first step, we find the expected log-likelihood of the data\n",
    "        which is equivalent to:\n",
    "        Finding cluster assignments for each point probabilistically\n",
    "        In this section, you will calculate the values of zk(n,k) for all n and\n",
    "        k according to current values of si2, pk and mu\n",
    "        \"\"\"\n",
    "        # TODO: Implement the E-step\n",
    "        # zik_denom = 0\n",
    "        # for k in range(num_K):\n",
    "        #     zik_denom = zik_denom + pk(k)  * pdfs(k)\n",
    "        \n",
    "        # for i in range(N):\n",
    "        #     for j in range (num_K):\n",
    "        #         for j in range (num_K):\n",
    "\n",
    "        #         zk[i,k] = pk(k) * pdfs()\n",
    "\n",
    "        for i in range(N):\n",
    "            for j in range(num_K):\n",
    "                exp_arr = np.zeros([num_K, 1])\n",
    "                for k in range(num_K):\n",
    "                    exp_arr[k] += np.log(pk[k])\n",
    "                    exp_arr[k] += multivariate_normal.logpdf(trainX[i], mu[k], si2*np.eye(D))\n",
    "                b = np.exp(logsumexp(exp_arr))\n",
    "                a = pk[j]*multivariate_normal.pdf(trainX[i], mu[j], si2*np.eye(D))\n",
    "                zk[i][j] = a/b\n",
    "\n",
    "\n",
    "        \"\"\"\n",
    "        M-step\n",
    "        Compute the GMM parameters from the expressions which you have in the spec\n",
    "        \"\"\"\n",
    "\n",
    "        # Estimate new value of pk\n",
    "        # TODO\n",
    "        for k in range(num_K):\n",
    "            sum = 0\n",
    "            for i in range(N):\n",
    "                sum += zk[i][k]\n",
    "            pk[k] = sum / N\n",
    "\n",
    "        # Estimate new value for means\n",
    "        # TODO\n",
    "        for k in range(num_K):\n",
    "            n_hat = 0\n",
    "            sum_zik_x = 0\n",
    "            for i in range(N):\n",
    "                n_hat += zk[i][k]\n",
    "                sum_zik_x += zk[i][k]*trainX[i]\n",
    "            mu[k] = sum_zik_x / n_hat\n",
    "\n",
    "        # Estimate new value for sigma^2\n",
    "        # TODO\n",
    "        sum = 0\n",
    "        for i in range(N):\n",
    "            for k in range(num_K):\n",
    "                sum += zk[i][k]*np.dot( np.transpose(trainX[i] - mu[k]) , trainX[i] - mu[k])\n",
    "        si2 = sum / (N*D)\n",
    "\n",
    "    if plot:\n",
    "        plt.ioff()\n",
    "        plt.savefig('visualize_clusters.png')\n",
    "    # Computing the expected log-likelihood of data for the optimal parameters computed\n",
    "    # TODO\n",
    "    maximum_log_likelihood = 0\n",
    "    for i in range(N):\n",
    "        max_log_exp_arr = np.zeros([num_K,1])\n",
    "        for k in range(num_K):\n",
    "            max_log_exp_arr[k] += np.log(pk[k])\n",
    "            max_log_exp_arr[k] += multivariate_normal.logpdf(trainX[i], mu[k], si2*np.eye(D))\n",
    "        maximum_log_likelihood += logsumexp(max_log_exp_arr)\n",
    "    # print(maximum_log_likelihood)\n",
    "    # Compute the BIC for the current clustering\n",
    "    # BIC = None  # TODO: calculate BIC\n",
    "    BIC = (num_K*(D + 1))*np.log(N) - 2*maximum_log_likelihood\n",
    "\n",
    "    return mu, pk, zk, si2, BIC"
   ]
  },
  {
   "cell_type": "code",
   "execution_count": 68,
   "metadata": {},
   "outputs": [
    {
     "name": "stdout",
     "output_type": "stream",
     "text": [
      "We'll try different numbers of clusters with GMM, using multiple runs for each to identify the 'best' results\n",
      "Shape of the input data: 342 by 4\n",
      "2 clusters...\n",
      "3 clusters...\n",
      "4 clusters...\n",
      "5 clusters...\n",
      "6 clusters...\n",
      "7 clusters...\n",
      "8 clusters...\n"
     ]
    }
   ],
   "source": [
    "print(\n",
    "        \"We'll try different numbers of clusters with GMM, using multiple runs\"\n",
    "        \" for each to identify the 'best' results\"\n",
    ")\n",
    "np.random.seed(445)\n",
    "trainX = get_data()\n",
    "num_K = range(2, 9)  # List of cluster sizes\n",
    "BIC_K = np.zeros(len(num_K))\n",
    "\n",
    "# MODIFIED\n",
    "means = {}  # Dictionary mapping cluster size to corresponding matrix of means\n",
    "cluster_proportions = {}  # Dictionary mapping cluster size to corresponding mixture proportions vector\n",
    "z_K = {}\n",
    "sigma2 = {}  # Dictionary mapping cluster size to the learnt variance value\n",
    "num_iter = 10\n",
    "for idx in range(len(num_K)):\n",
    "    # Running\n",
    "    k = num_K[idx]\n",
    "    print(\"%d clusters...\" % k)\n",
    "    # TODO: Run gmm function 10 times and get the best set of parameters\n",
    "    # for this particular value of k. Use the default num_iter=10 in calling gmm()\n",
    "    # for i in range(10):\n",
    "    #     pass\n",
    "    for i in range(10):\n",
    "        mu, pk, zk, si2, BIC = gmm(trainX, k,num_iter=num_iter)  \n",
    "        if BIC_K[idx] == 0 or BIC_K[idx] > BIC:\n",
    "            means[k] = mu\n",
    "            cluster_proportions[k] = pk\n",
    "            z_K[k] = zk\n",
    "            sigma2[k] = si2\n",
    "            BIC_K[idx] = BIC"
   ]
  },
  {
   "cell_type": "code",
   "execution_count": 70,
   "metadata": {},
   "outputs": [
    {
     "name": "stdout",
     "output_type": "stream",
     "text": [
      "7\n"
     ]
    }
   ],
   "source": [
    "print(len(means))"
   ]
  },
  {
   "cell_type": "code",
   "execution_count": 85,
   "metadata": {},
   "outputs": [
    {
     "name": "stdout",
     "output_type": "stream",
     "text": [
      "GMM parameters learnt for each cluster size\n",
      "Plotting BIC vs. cluster sizes...\n",
      "Optimal number of clusters: 7\n",
      "Means: [[ 1.17533921 -0.64209192  1.59284165  1.73509674]\n",
      " [-1.10985881  0.28080767 -0.97943697 -0.96574465]\n",
      " [ 0.51426012 -1.19142154  1.03014149  0.95697164]\n",
      " [ 0.17668092 -1.56956881  0.76789043  0.44006543]\n",
      " [ 1.34234909  1.08312074 -0.05122125 -0.29390785]\n",
      " [-0.59145174  1.11275046 -0.46419854 -0.07865601]\n",
      " [ 0.5878929   0.28178559 -0.58503337 -0.81166128]]\n"
     ]
    }
   ],
   "source": [
    "print(\"GMM parameters learnt for each cluster size\")\n",
    "print(\"Plotting BIC vs. cluster sizes...\")\n",
    "min_bic_k_val = 0\n",
    "min_bic = BIC_K[0]\n",
    "for idx in range(0,7):\n",
    "    if BIC_K[idx] < min_bic:\n",
    "        min_bic = BIC_K[idx]\n",
    "        min_bic_k_val = idx\n",
    "min_k_val = num_K[min_bic_k_val]\n",
    "print(\"Optimal number of clusters: \" + str(min_k_val))\n",
    "print(\"Means: \" + str(means[min_k_val]))\n",
    "# plt.plot(num_K, BIC_K, 'bo', label='BIC vs num_K')\n",
    "# plt.xlabel('num_K')\n",
    "# plt.ylabel('BIC')\n",
    "# plt.legend(loc='upper right')\n",
    "# plt.savefig(\"bic_plot.png\")\n"
   ]
  },
  {
   "cell_type": "code",
   "execution_count": 90,
   "metadata": {},
   "outputs": [
    {
     "name": "stdout",
     "output_type": "stream",
     "text": [
      "7\n",
      "2 [[ 0.66169934 -1.08624972  1.15426959  1.08691324]\n",
      " [-0.37484478  0.6153475  -0.65387994 -0.61572337]]\n",
      "3 [[ 0.65712251 -1.09967443  1.15865663  1.09156875]\n",
      " [ 0.95694087  0.84733852 -0.24480314 -0.39970695]\n",
      " [-0.89370126  0.5270193  -0.8115856  -0.69771751]]\n",
      "4 [[ 0.30115187 -1.43574584  0.86626193  0.62652012]\n",
      " [ 1.05566296 -0.72389705  1.48611539  1.6122635 ]\n",
      " [-0.92794463  0.52701146 -0.8216274  -0.70480868]\n",
      " [ 0.90473132  0.82484813 -0.26170187 -0.40440927]]\n",
      "5 [[-1.0705435   0.2621125  -0.97933352 -0.97880956]\n",
      " [-0.61593634  1.09799416 -0.48728071 -0.10919711]\n",
      " [ 1.01780891  0.73751591 -0.27053769 -0.50012809]\n",
      " [ 1.04994198 -0.72726552  1.47985831  1.60802981]\n",
      " [ 0.29065405 -1.44784752  0.85921974  0.60983405]]\n",
      "6 [[-1.11461915  0.23458236 -0.98215735 -0.99161431]\n",
      " [-0.7544675   0.9463017  -0.59739226 -0.28686614]\n",
      " [ 0.31578553 -1.41469215  0.88021494  0.65095764]\n",
      " [ 1.08787842 -0.70283743  1.51026605  1.64769517]\n",
      " [ 0.50088537  0.21765727 -0.60324586 -0.82471656]\n",
      " [ 1.190009    1.05087094 -0.12902597 -0.29998536]]\n",
      "7 [[ 1.17533921 -0.64209192  1.59284165  1.73509674]\n",
      " [-1.10985881  0.28080767 -0.97943697 -0.96574465]\n",
      " [ 0.51426012 -1.19142154  1.03014149  0.95697164]\n",
      " [ 0.17668092 -1.56956881  0.76789043  0.44006543]\n",
      " [ 1.34234909  1.08312074 -0.05122125 -0.29390785]\n",
      " [-0.59145174  1.11275046 -0.46419854 -0.07865601]\n",
      " [ 0.5878929   0.28178559 -0.58503337 -0.81166128]]\n",
      "8 [[ 0.16015141 -1.57994768  0.75690392  0.41514219]\n",
      " [ 1.33236785  1.03779315 -0.09135713 -0.33478847]\n",
      " [-0.52036426  1.15119263 -0.3994017   0.00807247]\n",
      " [ 1.16461208 -0.64968317  1.58127752  1.72621328]\n",
      " [ 0.44851395  0.24394738 -0.59987997 -0.81667609]\n",
      " [ 0.48707959 -1.22593654  1.00955057  0.91450345]\n",
      " [-0.96245459  0.82799331 -0.84451868 -0.54993693]\n",
      " [-1.14949255  0.15008389 -0.99372485 -1.05445824]]\n"
     ]
    }
   ],
   "source": [
    "print(len(means))\n",
    "\n",
    "for a,b in means.items():\n",
    "    print(a,b)\n"
   ]
  },
  {
   "cell_type": "code",
   "execution_count": 74,
   "metadata": {},
   "outputs": [
    {
     "name": "stdout",
     "output_type": "stream",
     "text": [
      "8\n",
      "6\n"
     ]
    }
   ],
   "source": [
    "print(min_k_val)\n",
    "print(min_bic_k_val)"
   ]
  },
  {
   "cell_type": "code",
   "execution_count": 84,
   "metadata": {},
   "outputs": [
    {
     "name": "stdout",
     "output_type": "stream",
     "text": [
      "7\n",
      "3177.7615509197562\n",
      "Start loop: \n",
      "\n",
      "3177.7615509197562\n",
      "\n",
      "2914.125545583687\n",
      "\n",
      "2782.766466479444\n",
      "\n",
      "2651.562993649676\n",
      "\n",
      "2614.028634779089\n",
      "\n",
      "2596.2365429399892\n",
      "\n",
      "2609.775965417466\n",
      "\n",
      "2596.2365429399892\n"
     ]
    }
   ],
   "source": [
    "print(len(BIC_K))\n",
    "min_bic = BIC_K[0]\n",
    "print(min_bic)\n",
    "print(\"Start loop: \\n\")\n",
    "for i in range(7):\n",
    "    print(str(BIC_K[i] )+ \"\\n\" )\n",
    "    if BIC_K[i] < min_bic:\n",
    "        min_bic = BIC_K[i]\n",
    "        # min_bic_k_val = idx\n",
    "\n",
    "print(min_bic)"
   ]
  }
 ],
 "metadata": {
  "kernelspec": {
   "display_name": "Python 3.8.10 ('project_vir_env')",
   "language": "python",
   "name": "python3"
  },
  "language_info": {
   "codemirror_mode": {
    "name": "ipython",
    "version": 3
   },
   "file_extension": ".py",
   "mimetype": "text/x-python",
   "name": "python",
   "nbconvert_exporter": "python",
   "pygments_lexer": "ipython3",
   "version": "3.8.10 (default, Nov 14 2022, 12:59:47) \n[GCC 9.4.0]"
  },
  "orig_nbformat": 4,
  "vscode": {
   "interpreter": {
    "hash": "f7736cb6ab6390cbe31948860364f371e84b03431f51d10c0fc878fd34b29f97"
   }
  }
 },
 "nbformat": 4,
 "nbformat_minor": 2
}

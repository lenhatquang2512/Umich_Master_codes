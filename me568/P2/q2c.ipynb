{
 "cells": [
  {
   "cell_type": "code",
   "execution_count": 1,
   "metadata": {},
   "outputs": [
    {
     "name": "stdout",
     "output_type": "stream",
     "text": [
      "The states derivative is: [9.9 1.496 -1.004 2.587 0.1 1.0 0.1]\n"
     ]
    }
   ],
   "source": [
    "function VehicleDynamics(states, control)\n",
    "    la = 1.56 \n",
    "    lb = 1.64\n",
    "    m = 2020\n",
    "    g = 9.81\n",
    "    Izz = 4095\n",
    "    h = 0.6\n",
    "    mu = 0.8\n",
    "    x = states[1]\n",
    "    y = states[2]\n",
    "    v = states[3]\n",
    "    r = states[4]\n",
    "    ψ = states[5]\n",
    "    ux = states[6]\n",
    "    δf = states[7]\n",
    "    ax = control[1]\n",
    "    dδf = control[2]\n",
    "\n",
    "    Fzf =  m *g * (lb/(la + lb)) - (m*h)/(la+lb) * ax #TODO Front axle load\n",
    "    Fzr =  m *g * (la/(la + lb)) + (m*h)/(la+lb) * ax #TODO Rear axle load\n",
    "\n",
    "    αf = δf - atan((v + la * r)/ux) #TODO Front slip angle\n",
    "    αr = -atan((v-lb*r)/ux) #TODO Rear slip angle\n",
    "\n",
    "    Fyf = MagicFormula(αf, Fzf, mu) #TODO Front lateral force\n",
    "    Fyr = MagicFormula(αr, Fzr, mu) #TODO Rear lateral force\n",
    "\n",
    "    dx          = ux * cos(ψ) - v * sin(ψ)#TODO \n",
    "    dy          = ux * sin(ψ) + v * cos(ψ)#TODO \n",
    "    dv          = ((Fyf + Fyr)/m) - ux * r#TODO \n",
    "    dr          = (Fyf * la - Fyr * lb)/Izz#TODO \n",
    "    dψ          =  r #TODO \n",
    "    dux         = ax #TODO \n",
    "    dδ          = dδf #TODO \n",
    "    dstates     = [dx dy dv dr dψ dux dδ]\n",
    "    return dstates\n",
    "end\n",
    "\n",
    "\n",
    "function MagicFormula(alpha, Fz, mu)\n",
    "    B =     5.68 #TODO Input Q2b value here\n",
    "    C =    1.817 #TODO Input Q2b value here\n",
    "    Fy =  mu * Fz * sin(C * atan((B/mu) * alpha))  #TODO Lateral force calculation\n",
    "    return Fy\n",
    "end\n",
    "\n",
    "\n",
    "x0 = [-10.0 -5.0 0.5 0.1 0.1 10.0 0.1] # This is the initial state\n",
    "ctrl = [1 0.1]  # One step control action\n",
    "dstates = round.(VehicleDynamics(x0, ctrl); digits = 3) # Calculate states derivative\n",
    "println(\"The states derivative is: \", dstates)"
   ]
  }
 ],
 "metadata": {
  "kernelspec": {
   "display_name": "Julia 1.10.2",
   "language": "julia",
   "name": "julia-1.10"
  },
  "language_info": {
   "file_extension": ".jl",
   "mimetype": "application/julia",
   "name": "julia",
   "version": "1.10.2"
  }
 },
 "nbformat": 4,
 "nbformat_minor": 2
}

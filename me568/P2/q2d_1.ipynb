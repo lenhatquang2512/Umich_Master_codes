{
 "cells": [
  {
   "cell_type": "code",
   "execution_count": null,
   "metadata": {},
   "outputs": [],
   "source": [
    "# include(\"Q2c_VehicleDynamics.jl\")\n",
    "\n",
    "function Propagation(states, control, δT)\n",
    "    #TODO Calculate states derivative using function\n",
    "    #  VehicleDynamics(args).\n",
    "    dstates =  VehicleDynamics(states, control)\n",
    "\n",
    "    #TODO Calculate next Step\n",
    "    # This is Explicit ForwardEuler\n",
    "    statesNext = states + dstates .* δT\n",
    "    return statesNext\n",
    "end"
   ]
  }
 ],
 "metadata": {
  "kernelspec": {
   "display_name": "Julia 1.10.2",
   "language": "julia",
   "name": "julia-1.10"
  },
  "language_info": {
   "file_extension": ".jl",
   "mimetype": "application/julia",
   "name": "julia",
   "version": "1.10.2"
  }
 },
 "nbformat": 4,
 "nbformat_minor": 2
}
